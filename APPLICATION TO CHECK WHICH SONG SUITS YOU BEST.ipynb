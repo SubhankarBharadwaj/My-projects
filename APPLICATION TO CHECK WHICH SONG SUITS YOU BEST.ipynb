{
 "cells": [
  {
   "cell_type": "code",
   "execution_count": null,
   "id": "0364d9f9",
   "metadata": {},
   "outputs": [],
   "source": []
  },
  {
   "cell_type": "code",
   "execution_count": 36,
   "id": "3fd4e651",
   "metadata": {},
   "outputs": [
    {
     "name": "stdout",
     "output_type": "stream",
     "text": [
      "Give the pathway to your song: C:/Users/subha/Downloads/My audio.wav\n",
      "3\n",
      "3\n",
      "Give the pathway to of the song: C:/Users/subha/Downloads/Queen - Bohemian Rhapsody (Live Aid 1985) (1).wav\n",
      "Give the pathway to of the song: C:/Users/subha/Downloads/Green Day - Wake Me Up When September Ends - [HQ].wav\n",
      "Give the pathway to of the song: C:/Users/subha/OneDrive/Desktop/Green Day - 21 Guns [Official Music Video].wav\n",
      "The song best for you is song number 0\n"
     ]
    }
   ],
   "source": [
    "\n",
    "\n",
    "your_song= input(\"Give the pathway to your audio: \")\n",
    "\n",
    "import wave\n",
    "w = wave.open(your_song , \"rb\")\n",
    "binary_data = w.readframes(w.getnframes())\n",
    "w.close()\n",
    "\n",
    "import numpy as np\n",
    "your_data = np.frombuffer(binary_data, dtype='int16')\n",
    "n =len(your_data)\n",
    "s =sum(your_data)\n",
    "average= s/n\n",
    "\n",
    "\n",
    "i = int(input(\"The number of songs in the playlist\"))\n",
    "x = i\n",
    "print(x)\n",
    "for i in range(0, x):\n",
    "    playlist= input(\"Give the pathway to of the song: \")\n",
    "   \n",
    "    w = wave.open(playlist , \"rb\")\n",
    "    binary2_data = w.readframes(w.getnframes())\n",
    "    w.close()\n",
    "    new_data = np.frombuffer(binary_data, dtype='int16')\n",
    "    a =len(new_data)\n",
    "    b =sum(new_data)\n",
    "    c= b/a\n",
    "    d= c-average\n",
    "    \n",
    "    new_list=[]\n",
    "    new_list.append(d)\n",
    "    \n",
    "new_list\n",
    "\n",
    "second_list = sorted(new_list)\n",
    "    \n",
    "for i in range(0, x):\n",
    "    if second_list[0]==new_list[i]:\n",
    "        print(\"The song best for you is song number\", i)\n",
    "        break\n",
    "    \n",
    "\n",
    "\n",
    "    \n",
    "    \n",
    "\n",
    "    \n",
    "    \n",
    "    "
   ]
  },
  {
   "cell_type": "code",
   "execution_count": null,
   "id": "8423c7c5",
   "metadata": {},
   "outputs": [],
   "source": []
  }
 ],
 "metadata": {
  "kernelspec": {
   "display_name": "Python 3 (ipykernel)",
   "language": "python",
   "name": "python3"
  },
  "language_info": {
   "codemirror_mode": {
    "name": "ipython",
    "version": 3
   },
   "file_extension": ".py",
   "mimetype": "text/x-python",
   "name": "python",
   "nbconvert_exporter": "python",
   "pygments_lexer": "ipython3",
   "version": "3.9.12"
  }
 },
 "nbformat": 4,
 "nbformat_minor": 5
}
